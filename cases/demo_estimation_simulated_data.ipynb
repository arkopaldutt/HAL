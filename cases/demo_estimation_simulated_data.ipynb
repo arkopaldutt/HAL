{
 "cells": [
  {
   "cell_type": "markdown",
   "metadata": {},
   "source": [
    "Description: Jupyter notebook for carrying out different MLE stragies on simulated datasets"
   ]
  },
  {
   "cell_type": "code",
   "execution_count": 1,
   "metadata": {},
   "outputs": [],
   "source": [
    "# Imports\n",
    "import os, sys, types\n",
    "import pathlib"
   ]
  },
  {
   "cell_type": "code",
   "execution_count": 2,
   "metadata": {},
   "outputs": [],
   "source": [
    "# Add paths\n",
    "import itertools\n",
    "import math\n",
    "import sympy\n",
    "import numpy as np\n",
    "import scipy.linalg\n",
    "import scipy.stats\n",
    "import scipy.optimize\n",
    "import scipy.fftpack\n",
    "\n",
    "import tensorflow  as  tf\n",
    "tf.compat.v1.enable_eager_execution(config=None, device_policy=None, execution_mode=None)\n",
    "\n",
    "#import seaborn as sns\n",
    "#import pandas as pd\n",
    "import matplotlib.pyplot as plt\n",
    "from sklearn.naive_bayes import GaussianNB\n",
    "from sklearn.metrics import accuracy_score\n",
    "\n",
    "import pickle\n",
    "\n",
    "from importlib import reload\n",
    "from sympy.physics.quantum.dagger import Dagger"
   ]
  },
  {
   "cell_type": "code",
   "execution_count": 3,
   "metadata": {},
   "outputs": [],
   "source": [
    "# Local package imports\n",
    "# Update this with setup & develop later\n",
    "PROJECT_PATH = str(pathlib.Path().resolve().parent)\n",
    "sys.path.append(PROJECT_PATH)"
   ]
  },
  {
   "cell_type": "code",
   "execution_count": 4,
   "metadata": {},
   "outputs": [
    {
     "name": "stdout",
     "output_type": "stream",
     "text": [
      "WARNING:tensorflow:From /Users/gogol/miniconda3/envs/pulse-shaping-env/lib/python3.7/site-packages/tensorflow_core/python/compat/v2_compat.py:65: disable_resource_variables (from tensorflow.python.ops.variable_scope) is deprecated and will be removed in a future version.\n",
      "Instructions for updating:\n",
      "non-resource variables are not supported in the long term\n"
     ]
    }
   ],
   "source": [
    "import hamiltonianlearner"
   ]
  },
  {
   "cell_type": "code",
   "execution_count": 5,
   "metadata": {},
   "outputs": [],
   "source": [
    "import hamiltonianlearner.quantum_system_oracles.process_data as process_data\n",
    "import hamiltonianlearner.quantum_system_oracles.simulate_nature as simulate_nature\n",
    "import hamiltonianlearner.quantum_system_models.quantum_device_models as quantum_device_models\n",
    "import hamiltonianlearner.learners.design_experiment as design_experiment"
   ]
  },
  {
   "cell_type": "code",
   "execution_count": 6,
   "metadata": {},
   "outputs": [],
   "source": [
    "# estimators\n",
    "import hamiltonianlearner.estimators.initial_estimators as initial_estimators\n",
    "import hamiltonianlearner.estimators.mle_estimators as mle_estimators\n",
    "import hamiltonianlearner.estimators.estimation_procedure as estimation_procedure"
   ]
  },
  {
   "cell_type": "code",
   "execution_count": 7,
   "metadata": {},
   "outputs": [],
   "source": [
    "# For plotting purposes\n",
    "%matplotlib inline\n",
    "%config InlineBackend.figure_format = 'retina'"
   ]
  },
  {
   "cell_type": "code",
   "execution_count": 8,
   "metadata": {},
   "outputs": [
    {
     "data": {
      "text/plain": [
       "['verbose']"
      ]
     },
     "execution_count": 8,
     "metadata": {},
     "output_type": "execute_result"
    }
   ],
   "source": [
    "# global configuration flags\n",
    "from absl import app\n",
    "from absl import flags\n",
    "reload(flags)\n",
    "FLAGS = flags.FLAGS\n",
    "\n",
    "if \"verbose\" not in dir(FLAGS):\n",
    "  flags.DEFINE_boolean('verbose', True, \"generate verbose debugging output\")\n",
    "  flags.DEFINE_boolean('limit_search_space', False, \"truncate MLE search space\")\n",
    "  \n",
    "FLAGS(['verbose'])"
   ]
  },
  {
   "cell_type": "code",
   "execution_count": 9,
   "metadata": {},
   "outputs": [],
   "source": [
    "import yaml\n",
    "#import unit_tests"
   ]
  },
  {
   "cell_type": "code",
   "execution_count": 10,
   "metadata": {},
   "outputs": [],
   "source": [
    "import functools"
   ]
  },
  {
   "cell_type": "code",
   "execution_count": 11,
   "metadata": {},
   "outputs": [],
   "source": [
    "import hamiltonianlearner.utils.learner_experiment_utils as learner_experiment_utils\n",
    "import hamiltonianlearner.utils.job_helper as job_helper"
   ]
  },
  {
   "cell_type": "code",
   "execution_count": 12,
   "metadata": {},
   "outputs": [],
   "source": [
    "# Cool reloading\n",
    "# Reference: https://stackoverflow.com/questions/28101895/reloading-packages-and-their-submodules-recursively-in-python\n",
    "\n",
    "def reload_package(package):\n",
    "    assert(hasattr(package, \"__package__\"))\n",
    "    fn = package.__file__\n",
    "    fn_dir = os.path.dirname(fn) + os.sep\n",
    "    module_visit = {fn}\n",
    "    del fn\n",
    "\n",
    "    def reload_recursive_ex(module):\n",
    "        reload(module)\n",
    "\n",
    "        for module_child in vars(module).values():\n",
    "            if isinstance(module_child, types.ModuleType):\n",
    "                fn_child = getattr(module_child, \"__file__\", None)\n",
    "                if (fn_child is not None) and fn_child.startswith(fn_dir):\n",
    "                    if fn_child not in module_visit:\n",
    "                        # print(\"reloading:\", fn_child, \"from\", module)\n",
    "                        module_visit.add(fn_child)\n",
    "                        reload_recursive_ex(module_child)\n",
    "\n",
    "    return reload_recursive_ex(package)"
   ]
  },
  {
   "cell_type": "markdown",
   "metadata": {},
   "source": [
    "#### Global parameters/constants"
   ]
  },
  {
   "cell_type": "code",
   "execution_count": 13,
   "metadata": {},
   "outputs": [],
   "source": [
    "def kron(a, b):\n",
    "    return np.matrix(scipy.linalg.kron(a, b))"
   ]
  },
  {
   "cell_type": "code",
   "execution_count": 14,
   "metadata": {},
   "outputs": [],
   "source": [
    "si = np.array([ [1, 0], [0, 1] ])\n",
    "sx = np.array([ [0, 1], [1, 0] ])\n",
    "sy = np.array([ [0, -1j], [1j, 0] ])\n",
    "sz = np.array([ [1, 0], [0, -1] ])\n",
    "\n",
    "# According to Ed's slides and answers verified -- match!\n",
    "moset = {0: [si,scipy.linalg.expm(1j*(np.pi/4)*sy)], 1: [si,scipy.linalg.expm(-1j*(np.pi/4)*sx)], 2: [si,si]}\n",
    "prepset = {0: [si, si], 1: [sx, si]}"
   ]
  },
  {
   "cell_type": "code",
   "execution_count": 15,
   "metadata": {},
   "outputs": [],
   "source": [
    "# Time Stamps similar to data\n",
    "time_stamps = np.linspace(1e-7,6e-7,81)"
   ]
  },
  {
   "cell_type": "markdown",
   "metadata": {},
   "source": [
    "### Parameters of interest"
   ]
  },
  {
   "cell_type": "code",
   "execution_count": 16,
   "metadata": {},
   "outputs": [],
   "source": [
    "# ibmq_boeblingen data\n",
    "\n",
    "# Parameters of the different jobs\n",
    "meas_level_expt = 1\n",
    "n_shots = 512\n",
    "n_job = 1\n",
    "cr_amp_array = [0.24, 0.30, 0.36, 0.42, 0.48]"
   ]
  },
  {
   "cell_type": "code",
   "execution_count": 17,
   "metadata": {},
   "outputs": [],
   "source": [
    "ind_amp = 1\n",
    "pickle_result_filename = 'ibmq_boel_fixed_qs_data_aligned_A_0_%d_meas_%d_shots_%d_job_%d.pickle' % (100*cr_amp_array[ind_amp], meas_level_expt,\n",
    "                                                                           n_shots, n_job)\n",
    "pickle_result_file = 'Data/ibmq_boel/'+pickle_result_filename"
   ]
  },
  {
   "cell_type": "markdown",
   "metadata": {},
   "source": [
    "## Large simulated dataset -- short time range"
   ]
  },
  {
   "cell_type": "code",
   "execution_count": 21,
   "metadata": {},
   "outputs": [],
   "source": [
    "# For computing RMSE\n",
    "xi_J_rmse = (10**6)*np.ones(6)"
   ]
  },
  {
   "cell_type": "code",
   "execution_count": 22,
   "metadata": {},
   "outputs": [],
   "source": [
    "# Potential truth\n",
    "J_truth = np.array([-4573872.71813216, -1456459.93269852,  -297217.75625596,\n",
    "             6486501.41598311,  1397617.03924571,   406234.05359476])\n",
    "\n",
    "xi_J = 10**np.amax(np.floor(np.log10(np.abs(J_truth))))*np.ones(len(J_truth))\n",
    "xi_t = 1e-7"
   ]
  },
  {
   "cell_type": "code",
   "execution_count": 23,
   "metadata": {},
   "outputs": [
    {
     "name": "stdout",
     "output_type": "stream",
     "text": [
      "Using J_num which we already discovered before!\n",
      "Simulator oracle setup\n"
     ]
    }
   ],
   "source": [
    "# Setup oracle -- simulator\n",
    "print('Using J_num which we already discovered before!')\n",
    "\n",
    "param_truth = quantum_device_models.transform_parameters(J_truth)\n",
    "\n",
    "## Oracle properties\n",
    "FLAG_simulator = True\n",
    "\n",
    "## Noise Models\n",
    "FLAG_readout_noise = True\n",
    "FLAG_control_noise = True\n",
    "\n",
    "# Control Noise\n",
    "teff = quantum_device_models.data_driven_teff_noise_model(param_truth, FLAG_ibmq_boel=True)\n",
    "\n",
    "misclassif_error = [0.0078125, 0.033203125]\n",
    "expt_noise ={'readout':misclassif_error, 'imperfect_pulse_shaping':teff}\n",
    "\n",
    "# Create oracle\n",
    "env_qs = simulate_nature.Nature(J_truth, noise=expt_noise, expt_data=None,\n",
    "                                FLAG_simulator=FLAG_simulator,\n",
    "                                FLAG_readout_noise=FLAG_readout_noise,\n",
    "                                FLAG_control_noise=FLAG_control_noise)"
   ]
  },
  {
   "cell_type": "code",
   "execution_count": 24,
   "metadata": {},
   "outputs": [
    {
     "name": "stdout",
     "output_type": "stream",
     "text": [
      "Oracle: Simulator\n",
      "Noise Sources:\n",
      "Readout Noise: FLAG=True, Value=[0.0078125, 0.033203125]\n",
      "Control Noise: FLAG=True\n"
     ]
    }
   ],
   "source": [
    "env_qs.print_info()"
   ]
  },
  {
   "cell_type": "code",
   "execution_count": 25,
   "metadata": {},
   "outputs": [],
   "source": [
    "# Create action space\n",
    "time_stamps = ibm_data['time_stamps'][0:81]\n",
    "time_stamps_nd = time_stamps/xi_t\n",
    "\n",
    "A_cr = simulate_nature.Action_Space(moset, prepset, time_stamps_nd, xi_t, xi_J=xi_J)"
   ]
  },
  {
   "cell_type": "code",
   "execution_count": 26,
   "metadata": {},
   "outputs": [],
   "source": [
    "# Sample data\n",
    "np.random.seed(2021)\n",
    "N_config = A_cr.N_actions\n",
    "p_U = (1 / N_config) * np.ones(N_config)\n",
    "\n",
    "N_queries = 255*N_config\n",
    "X_p = A_cr.sample_action_space(env_qs, p_U, N_queries, FLAG_query=True)"
   ]
  },
  {
   "cell_type": "code",
   "execution_count": 27,
   "metadata": {},
   "outputs": [
    {
     "data": {
      "text/plain": [
       "123930"
      ]
     },
     "execution_count": 27,
     "metadata": {},
     "output_type": "execute_result"
    }
   ],
   "source": [
    "len(X_p['samples'])"
   ]
  },
  {
   "cell_type": "code",
   "execution_count": 28,
   "metadata": {},
   "outputs": [],
   "source": [
    "A_cr.update_dict_action_space(X_p)"
   ]
  },
  {
   "cell_type": "markdown",
   "metadata": {},
   "source": [
    "Baseline solver: FFT+Regression"
   ]
  },
  {
   "cell_type": "code",
   "execution_count": 29,
   "metadata": {},
   "outputs": [],
   "source": [
    "loss_J_IC, J_num_IC = estimation_procedure.baseline_estimate(X_p, A_cr)"
   ]
  },
  {
   "cell_type": "code",
   "execution_count": 30,
   "metadata": {},
   "outputs": [
    {
     "data": {
      "text/plain": [
       "array([-5669654.76474527, -3591498.01502238,  1750874.70079857,\n",
       "        6460136.82314445,  -831873.95960098,  2569215.71693137])"
      ]
     },
     "execution_count": 30,
     "metadata": {},
     "output_type": "execute_result"
    }
   ],
   "source": [
    "J_num_IC"
   ]
  },
  {
   "cell_type": "markdown",
   "metadata": {},
   "source": [
    "MLE"
   ]
  },
  {
   "cell_type": "code",
   "execution_count": 31,
   "metadata": {},
   "outputs": [],
   "source": [
    "loss_J, J_num = estimation_procedure.quick_mle_estimate(X_p, A_cr)"
   ]
  },
  {
   "cell_type": "code",
   "execution_count": 32,
   "metadata": {},
   "outputs": [
    {
     "data": {
      "text/plain": [
       "array([-4621066.7474512 , -1274349.81439786,  -124104.33153049,\n",
       "        6547746.09894341,  1193407.08958774,   247607.04879776])"
      ]
     },
     "execution_count": 32,
     "metadata": {},
     "output_type": "execute_result"
    }
   ],
   "source": [
    "J_num"
   ]
  },
  {
   "cell_type": "markdown",
   "metadata": {},
   "source": [
    "Summary"
   ]
  },
  {
   "cell_type": "code",
   "execution_count": 33,
   "metadata": {},
   "outputs": [
    {
     "name": "stdout",
     "output_type": "stream",
     "text": [
      "Loss IC: 0.738251\n",
      "Loss MLE: 0.509057\n",
      "Loss Potential truth: 0.509276\n"
     ]
    }
   ],
   "source": [
    "# Compare MLE losses\n",
    "mle_est = mle_estimators.MLE_Estimator(X_p, xi_J)\n",
    "print('Loss IC: %f' % mle_est.np_loss(J_num_IC, type_param='J'))\n",
    "print('Loss MLE: %f' % mle_est.np_loss(J_num, type_param='J'))\n",
    "print('Loss Potential truth: %f' % mle_est.np_loss(J_truth, type_param='J'))"
   ]
  },
  {
   "cell_type": "code",
   "execution_count": 34,
   "metadata": {},
   "outputs": [],
   "source": [
    "J_mean_jobs = np.array([-4603928.82066976, -1336348.67108834,  -135657.6579083 ,\n",
    "        6535572.99605797,  1261349.74890554,   258374.52928122])"
   ]
  },
  {
   "cell_type": "code",
   "execution_count": 35,
   "metadata": {},
   "outputs": [
    {
     "data": {
      "text/plain": [
       "0.509065432951569"
      ]
     },
     "execution_count": 35,
     "metadata": {},
     "output_type": "execute_result"
    }
   ],
   "source": [
    "mle_est.np_loss(J_mean_jobs, type_param='J')"
   ]
  },
  {
   "cell_type": "code",
   "execution_count": 39,
   "metadata": {},
   "outputs": [
    {
     "data": {
      "text/plain": [
       "0.2902946488679517"
      ]
     },
     "execution_count": 39,
     "metadata": {},
     "output_type": "execute_result"
    }
   ],
   "source": [
    "estimation_procedure.normalized_L2_error(J_truth, J_mean_jobs, xi_J)"
   ]
  },
  {
   "cell_type": "code",
   "execution_count": 40,
   "metadata": {},
   "outputs": [
    {
     "data": {
      "text/plain": [
       "0.3687475705575716"
      ]
     },
     "execution_count": 40,
     "metadata": {},
     "output_type": "execute_result"
    }
   ],
   "source": [
    "estimation_procedure.normalized_L2_error(J_truth, J_num, xi_J)"
   ]
  },
  {
   "cell_type": "markdown",
   "metadata": {},
   "source": [
    "Above two errors is what I see approximately if I were to calculate RMSE from J_truth"
   ]
  },
  {
   "cell_type": "code",
   "execution_count": 41,
   "metadata": {},
   "outputs": [
    {
     "data": {
      "text/plain": [
       "0.0956628148272872"
      ]
     },
     "execution_count": 41,
     "metadata": {},
     "output_type": "execute_result"
    }
   ],
   "source": [
    "estimation_procedure.normalized_L2_error(J_mean_jobs, J_num, xi_J)"
   ]
  },
  {
   "cell_type": "markdown",
   "metadata": {},
   "source": [
    "Above error is what I see in my empirical estimates"
   ]
  }
 ],
 "metadata": {
  "kernelspec": {
   "display_name": "pulse-shaping-env",
   "language": "python",
   "name": "pulse-shaping-env"
  },
  "language_info": {
   "codemirror_mode": {
    "name": "ipython",
    "version": 3
   },
   "file_extension": ".py",
   "mimetype": "text/x-python",
   "name": "python",
   "nbconvert_exporter": "python",
   "pygments_lexer": "ipython3",
   "version": "3.7.9"
  },
  "latex_envs": {
   "LaTeX_envs_menu_present": true,
   "autoclose": false,
   "autocomplete": true,
   "bibliofile": "biblio.bib",
   "cite_by": "apalike",
   "current_citInitial": 1,
   "eqLabelWithNumbers": true,
   "eqNumInitial": 1,
   "hotkeys": {
    "equation": "Ctrl-E",
    "itemize": "Ctrl-I"
   },
   "labels_anchors": false,
   "latex_user_defs": false,
   "report_style_numbering": false,
   "user_envs_cfg": false
  },
  "toc": {
   "base_numbering": 1,
   "nav_menu": {},
   "number_sections": true,
   "sideBar": true,
   "skip_h1_title": false,
   "title_cell": "Table of Contents",
   "title_sidebar": "Contents",
   "toc_cell": false,
   "toc_position": {},
   "toc_section_display": true,
   "toc_window_display": false
  },
  "varInspector": {
   "cols": {
    "lenName": 16,
    "lenType": 16,
    "lenVar": 40
   },
   "kernels_config": {
    "python": {
     "delete_cmd_postfix": "",
     "delete_cmd_prefix": "del ",
     "library": "var_list.py",
     "varRefreshCmd": "print(var_dic_list())"
    },
    "r": {
     "delete_cmd_postfix": ") ",
     "delete_cmd_prefix": "rm(",
     "library": "var_list.r",
     "varRefreshCmd": "cat(var_dic_list()) "
    }
   },
   "types_to_exclude": [
    "module",
    "function",
    "builtin_function_or_method",
    "instance",
    "_Feature"
   ],
   "window_display": false
  }
 },
 "nbformat": 4,
 "nbformat_minor": 4
}
